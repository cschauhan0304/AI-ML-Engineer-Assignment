{
 "cells": [
  {
   "cell_type": "code",
   "execution_count": null,
   "id": "d9ee387d",
   "metadata": {},
   "outputs": [
    {
     "name": "stdout",
     "output_type": "stream",
     "text": [
      "Initial dataset shape: (1072, 7)\n"
     ]
    },
    {
     "data": {
      "text/html": [
       "<div>\n",
       "<style scoped>\n",
       "    .dataframe tbody tr th:only-of-type {\n",
       "        vertical-align: middle;\n",
       "    }\n",
       "\n",
       "    .dataframe tbody tr th {\n",
       "        vertical-align: top;\n",
       "    }\n",
       "\n",
       "    .dataframe thead th {\n",
       "        text-align: right;\n",
       "    }\n",
       "</style>\n",
       "<table border=\"1\" class=\"dataframe\">\n",
       "  <thead>\n",
       "    <tr style=\"text-align: right;\">\n",
       "      <th></th>\n",
       "      <th>title</th>\n",
       "      <th>year</th>\n",
       "      <th>budget_raw</th>\n",
       "      <th>box_office_raw</th>\n",
       "      <th>release_date</th>\n",
       "      <th>section</th>\n",
       "      <th>image</th>\n",
       "    </tr>\n",
       "  </thead>\n",
       "  <tbody>\n",
       "    <tr>\n",
       "      <th>0</th>\n",
       "      <td>Traffic in Souls</td>\n",
       "      <td>1913</td>\n",
       "      <td>$5,700 [ 1 ]</td>\n",
       "      <td>$981,000 (US)[citation needed]</td>\n",
       "      <td>NaN</td>\n",
       "      <td>Highest-grossing</td>\n",
       "      <td>images\\1913_Traffic_in_Souls.jpg</td>\n",
       "    </tr>\n",
       "    <tr>\n",
       "      <th>1</th>\n",
       "      <td>The Spoilers</td>\n",
       "      <td>1914</td>\n",
       "      <td>NaN</td>\n",
       "      <td>$1,000,000[14]</td>\n",
       "      <td>NaN</td>\n",
       "      <td>Highest-grossing</td>\n",
       "      <td>images\\1914_The_Spoilers.jpg</td>\n",
       "    </tr>\n",
       "    <tr>\n",
       "      <th>2</th>\n",
       "      <td>Dough and Dynamite</td>\n",
       "      <td>1914</td>\n",
       "      <td>NaN</td>\n",
       "      <td>$130,000[15]</td>\n",
       "      <td>NaN</td>\n",
       "      <td>Highest-grossing</td>\n",
       "      <td>images\\1914_Dough_and_Dynamite.jpg</td>\n",
       "    </tr>\n",
       "    <tr>\n",
       "      <th>3</th>\n",
       "      <td>The Virginian</td>\n",
       "      <td>1914</td>\n",
       "      <td>NaN</td>\n",
       "      <td>$111,518[15]</td>\n",
       "      <td>NaN</td>\n",
       "      <td>Highest-grossing</td>\n",
       "      <td>images\\1914_The_Virginian.jpg</td>\n",
       "    </tr>\n",
       "    <tr>\n",
       "      <th>4</th>\n",
       "      <td>Rose of the Rancho</td>\n",
       "      <td>1914</td>\n",
       "      <td>NaN</td>\n",
       "      <td>$87,028[15]</td>\n",
       "      <td>NaN</td>\n",
       "      <td>Highest-grossing</td>\n",
       "      <td>images\\1914_Rose_of_the_Rancho.jpg</td>\n",
       "    </tr>\n",
       "  </tbody>\n",
       "</table>\n",
       "</div>"
      ],
      "text/plain": [
       "                title  year    budget_raw                  box_office_raw  \\\n",
       "0    Traffic in Souls  1913  $5,700 [ 1 ]  $981,000 (US)[citation needed]   \n",
       "1        The Spoilers  1914           NaN                  $1,000,000[14]   \n",
       "2  Dough and Dynamite  1914           NaN                    $130,000[15]   \n",
       "3       The Virginian  1914           NaN                    $111,518[15]   \n",
       "4  Rose of the Rancho  1914           NaN                     $87,028[15]   \n",
       "\n",
       "   release_date           section                               image  \n",
       "0           NaN  Highest-grossing    images\\1913_Traffic_in_Souls.jpg  \n",
       "1           NaN  Highest-grossing        images\\1914_The_Spoilers.jpg  \n",
       "2           NaN  Highest-grossing  images\\1914_Dough_and_Dynamite.jpg  \n",
       "3           NaN  Highest-grossing       images\\1914_The_Virginian.jpg  \n",
       "4           NaN  Highest-grossing  images\\1914_Rose_of_the_Rancho.jpg  "
      ]
     },
     "execution_count": 76,
     "metadata": {},
     "output_type": "execute_result"
    }
   ],
   "source": [
    "import pandas as pd\n",
    "import re\n",
    "import unicodedata\n",
    "import matplotlib.pyplot as plt\n",
    "import seaborn as sns\n",
    "import numpy as np\n",
    "\n",
    "df = pd.read_csv(\"movies_dataset.csv\")\n",
    "print(\"Initial dataset shape:\", df.shape)\n",
    "df.head()"
   ]
  },
  {
   "cell_type": "markdown",
   "id": "5cd07711",
   "metadata": {},
   "source": [
    "The data is completely of Highest grossing movies per year"
   ]
  },
  {
   "cell_type": "code",
   "execution_count": 103,
   "id": "df9738a2",
   "metadata": {},
   "outputs": [
    {
     "name": "stdout",
     "output_type": "stream",
     "text": [
      "Highest-grossing movies: 1072\n",
      "Total movies: 1072\n",
      "Percentage: 100.00%\n"
     ]
    }
   ],
   "source": [
    "count_highest = (df[\"section\"] == \"Highest-grossing\").sum()\n",
    "total_rows = len(df)\n",
    "\n",
    "print(f\"Highest-grossing movies: {count_highest}\")\n",
    "print(f\"Total movies: {total_rows}\")\n",
    "print(f\"Percentage: {count_highest/total_rows:.2%}\")"
   ]
  },
  {
   "cell_type": "markdown",
   "id": "a2e02880",
   "metadata": {},
   "source": [
    "# Text cleaning\n",
    "Here we are removing citations [1], [2] and parenthetical notes and converting fancy dashes/quotes/apostrophes to plain ASCII equivalents"
   ]
  },
  {
   "cell_type": "code",
   "execution_count": null,
   "id": "a9e296cc",
   "metadata": {},
   "outputs": [],
   "source": [
    "def remove_brackets(text):\n",
    "    if not isinstance(text, str):\n",
    "        return text\n",
    "    text = re.sub(r\"\\[.*?\\]\", \"\", text)    \n",
    "    text = re.sub(r\"\\(.*?\\)\", \"\", text) \n",
    "    return text.strip()\n",
    "\n",
    "df[\"budget_raw\"] = df[\"budget_raw\"].apply(remove_brackets)\n",
    "df[\"box_office_raw\"] = df[\"box_office_raw\"].apply(remove_brackets)\n",
    "\n",
    "def normalize_text(text):\n",
    "    if not isinstance(text, str):\n",
    "        return text\n",
    "    text = unicodedata.normalize(\"NFKC\", text)\n",
    "    text = text.replace(\"–\", \"-\").replace(\"—\", \"-\")\n",
    "    text = text.replace(\"“\", '\"').replace(\"”\", '\"')\n",
    "    text = text.replace(\"’\", \"'\")\n",
    "    return text.strip()\n",
    "\n",
    "df[\"title\"] = df[\"title\"].apply(normalize_text)\n",
    "df[\"budget_raw\"] = df[\"budget_raw\"].apply(normalize_text)\n",
    "df[\"box_office_raw\"] = df[\"box_office_raw\"].apply(normalize_text)"
   ]
  },
  {
   "cell_type": "markdown",
   "id": "8917ad0c",
   "metadata": {},
   "source": [
    "# Money cleaning: \n",
    "extracting numeric values from budget/box office strings and convert to millions USD. and converting units like billion/million/thousand, ranges (averages), and plain raw dollar values \n"
   ]
  },
  {
   "cell_type": "code",
   "execution_count": null,
   "id": "81342f11",
   "metadata": {},
   "outputs": [
    {
     "data": {
      "text/html": [
       "<div>\n",
       "<style scoped>\n",
       "    .dataframe tbody tr th:only-of-type {\n",
       "        vertical-align: middle;\n",
       "    }\n",
       "\n",
       "    .dataframe tbody tr th {\n",
       "        vertical-align: top;\n",
       "    }\n",
       "\n",
       "    .dataframe thead th {\n",
       "        text-align: right;\n",
       "    }\n",
       "</style>\n",
       "<table border=\"1\" class=\"dataframe\">\n",
       "  <thead>\n",
       "    <tr style=\"text-align: right;\">\n",
       "      <th></th>\n",
       "      <th>title</th>\n",
       "      <th>year</th>\n",
       "      <th>budget_raw</th>\n",
       "      <th>budget_millionUSD</th>\n",
       "      <th>box_office_raw</th>\n",
       "      <th>box_office_millionUSD</th>\n",
       "    </tr>\n",
       "  </thead>\n",
       "  <tbody>\n",
       "    <tr>\n",
       "      <th>972</th>\n",
       "      <td>Star Wars: The Force Awakens</td>\n",
       "      <td>2015</td>\n",
       "      <td>$447 million   $533 million</td>\n",
       "      <td>490.0</td>\n",
       "      <td>$2,068,223,624</td>\n",
       "      <td>2068.223624</td>\n",
       "    </tr>\n",
       "    <tr>\n",
       "      <th>973</th>\n",
       "      <td>Jurassic World</td>\n",
       "      <td>2015</td>\n",
       "      <td>$150-215 million</td>\n",
       "      <td>150.0</td>\n",
       "      <td>$1,670,400,637</td>\n",
       "      <td>1670.400637</td>\n",
       "    </tr>\n",
       "    <tr>\n",
       "      <th>974</th>\n",
       "      <td>Furious 7</td>\n",
       "      <td>2015</td>\n",
       "      <td>$190-250 million</td>\n",
       "      <td>190.0</td>\n",
       "      <td>$1,515,047,671</td>\n",
       "      <td>1515.047671</td>\n",
       "    </tr>\n",
       "    <tr>\n",
       "      <th>975</th>\n",
       "      <td>Avengers: Age of Ultron</td>\n",
       "      <td>2015</td>\n",
       "      <td>$444-495.2 million    $365 million</td>\n",
       "      <td>404.5</td>\n",
       "      <td>$1,402,809,540</td>\n",
       "      <td>1402.809540</td>\n",
       "    </tr>\n",
       "    <tr>\n",
       "      <th>976</th>\n",
       "      <td>Minions</td>\n",
       "      <td>2015</td>\n",
       "      <td>$74 million</td>\n",
       "      <td>74.0</td>\n",
       "      <td>$1,159,398,397</td>\n",
       "      <td>1159.398397</td>\n",
       "    </tr>\n",
       "    <tr>\n",
       "      <th>...</th>\n",
       "      <td>...</td>\n",
       "      <td>...</td>\n",
       "      <td>...</td>\n",
       "      <td>...</td>\n",
       "      <td>...</td>\n",
       "      <td>...</td>\n",
       "    </tr>\n",
       "    <tr>\n",
       "      <th>1067</th>\n",
       "      <td>Mufasa: The Lion King</td>\n",
       "      <td>2024</td>\n",
       "      <td>$200 million</td>\n",
       "      <td>200.0</td>\n",
       "      <td>$723,060,982</td>\n",
       "      <td>723.060982</td>\n",
       "    </tr>\n",
       "    <tr>\n",
       "      <th>1068</th>\n",
       "      <td>Dune: Part Two</td>\n",
       "      <td>2024</td>\n",
       "      <td>$190 million</td>\n",
       "      <td>190.0</td>\n",
       "      <td>$715,409,065</td>\n",
       "      <td>715.409065</td>\n",
       "    </tr>\n",
       "    <tr>\n",
       "      <th>1069</th>\n",
       "      <td>Godzilla x Kong: The New Empire</td>\n",
       "      <td>2024</td>\n",
       "      <td>$135-150 million</td>\n",
       "      <td>135.0</td>\n",
       "      <td>$572,505,338</td>\n",
       "      <td>572.505338</td>\n",
       "    </tr>\n",
       "    <tr>\n",
       "      <th>1070</th>\n",
       "      <td>Kung Fu Panda 4</td>\n",
       "      <td>2024</td>\n",
       "      <td>$85 million</td>\n",
       "      <td>85.0</td>\n",
       "      <td>$547,689,492</td>\n",
       "      <td>547.689492</td>\n",
       "    </tr>\n",
       "    <tr>\n",
       "      <th>1071</th>\n",
       "      <td>Sonic the Hedgehog 3</td>\n",
       "      <td>2024</td>\n",
       "      <td>$122 million</td>\n",
       "      <td>122.0</td>\n",
       "      <td>$492,162,604</td>\n",
       "      <td>492.162604</td>\n",
       "    </tr>\n",
       "  </tbody>\n",
       "</table>\n",
       "<p>100 rows × 6 columns</p>\n",
       "</div>"
      ],
      "text/plain": [
       "                                title  year  \\\n",
       "972      Star Wars: The Force Awakens  2015   \n",
       "973                    Jurassic World  2015   \n",
       "974                         Furious 7  2015   \n",
       "975           Avengers: Age of Ultron  2015   \n",
       "976                           Minions  2015   \n",
       "...                               ...   ...   \n",
       "1067            Mufasa: The Lion King  2024   \n",
       "1068                   Dune: Part Two  2024   \n",
       "1069  Godzilla x Kong: The New Empire  2024   \n",
       "1070                  Kung Fu Panda 4  2024   \n",
       "1071             Sonic the Hedgehog 3  2024   \n",
       "\n",
       "                              budget_raw  budget_millionUSD  box_office_raw  \\\n",
       "972          $447 million   $533 million              490.0  $2,068,223,624   \n",
       "973                     $150-215 million              150.0  $1,670,400,637   \n",
       "974                     $190-250 million              190.0  $1,515,047,671   \n",
       "975   $444-495.2 million    $365 million              404.5  $1,402,809,540   \n",
       "976                          $74 million               74.0  $1,159,398,397   \n",
       "...                                  ...                ...             ...   \n",
       "1067                        $200 million              200.0    $723,060,982   \n",
       "1068                        $190 million              190.0    $715,409,065   \n",
       "1069                    $135-150 million              135.0    $572,505,338   \n",
       "1070                         $85 million               85.0    $547,689,492   \n",
       "1071                        $122 million              122.0    $492,162,604   \n",
       "\n",
       "      box_office_millionUSD  \n",
       "972             2068.223624  \n",
       "973             1670.400637  \n",
       "974             1515.047671  \n",
       "975             1402.809540  \n",
       "976             1159.398397  \n",
       "...                     ...  \n",
       "1067             723.060982  \n",
       "1068             715.409065  \n",
       "1069             572.505338  \n",
       "1070             547.689492  \n",
       "1071             492.162604  \n",
       "\n",
       "[100 rows x 6 columns]"
      ]
     },
     "execution_count": 78,
     "metadata": {},
     "output_type": "execute_result"
    }
   ],
   "source": [
    "def clean_money(value):\n",
    "    if not isinstance(value, str):\n",
    "        return None\n",
    "    value = value.replace(\",\", \"\").replace(\"US$\", \"$\").strip()\n",
    "\n",
    "    matches = re.findall(r\"\\$([\\d\\.]+)\", value)\n",
    "    if not matches:\n",
    "        return None\n",
    "\n",
    "    nums = []\n",
    "    for m in matches:\n",
    "        num = float(m)\n",
    "\n",
    "        if \"billion\" in value.lower():\n",
    "            nums.append(num * 1000)   \n",
    "        elif \"million\" in value.lower():\n",
    "            nums.append(num)         \n",
    "        elif \"thousand\" in value.lower():\n",
    "            nums.append(num * 0.001) \n",
    "        else:\n",
    "            nums.append(num / 1e6)   \n",
    "\n",
    "    return sum(nums) / len(nums) if nums else None\n",
    "\n",
    "\n",
    "def clean_money_with_range(value):\n",
    "    return clean_money(value) \n",
    "\n",
    "df[\"budget_millionUSD\"] = df[\"budget_raw\"].apply(clean_money_with_range)\n",
    "df[\"box_office_millionUSD\"] = df[\"box_office_raw\"].apply(clean_money_with_range)\n",
    "\n",
    "df[[\"title\", \"year\", \"budget_raw\", \"budget_millionUSD\", \"box_office_raw\", \"box_office_millionUSD\"]].head(100)\n",
    "# df[[\"title\", \"year\", \"budget_raw\", \"budget_millionUSD\", \"box_office_raw\", \"box_office_millionUSD\"]].tail(100)"
   ]
  },
  {
   "cell_type": "markdown",
   "id": "4e8e088b",
   "metadata": {},
   "source": [
    "here we are finding the missing values in our data"
   ]
  },
  {
   "cell_type": "code",
   "execution_count": 79,
   "id": "166daffd",
   "metadata": {},
   "outputs": [
    {
     "name": "stdout",
     "output_type": "stream",
     "text": [
      "Missing values per column:\n",
      "title                       0\n",
      "year                        0\n",
      "budget_raw                138\n",
      "box_office_raw              0\n",
      "release_date             1072\n",
      "section                     0\n",
      "image                       5\n",
      "budget_millionUSD         155\n",
      "box_office_millionUSD       0\n",
      "dtype: int64\n"
     ]
    }
   ],
   "source": [
    "print(\"Missing values per column:\")\n",
    "print(df.isna().sum())"
   ]
  },
  {
   "cell_type": "markdown",
   "id": "c4558d18",
   "metadata": {},
   "source": [
    "# We are looking for the rows in data where budget_raw is missing"
   ]
  },
  {
   "cell_type": "code",
   "execution_count": null,
   "id": "ae35e0c6",
   "metadata": {},
   "outputs": [
    {
     "name": "stdout",
     "output_type": "stream",
     "text": [
      "Rows with missing budget_raw:\n"
     ]
    },
    {
     "data": {
      "text/html": [
       "<div>\n",
       "<style scoped>\n",
       "    .dataframe tbody tr th:only-of-type {\n",
       "        vertical-align: middle;\n",
       "    }\n",
       "\n",
       "    .dataframe tbody tr th {\n",
       "        vertical-align: top;\n",
       "    }\n",
       "\n",
       "    .dataframe thead th {\n",
       "        text-align: right;\n",
       "    }\n",
       "</style>\n",
       "<table border=\"1\" class=\"dataframe\">\n",
       "  <thead>\n",
       "    <tr style=\"text-align: right;\">\n",
       "      <th></th>\n",
       "      <th>title</th>\n",
       "      <th>year</th>\n",
       "      <th>budget_raw</th>\n",
       "      <th>box_office_raw</th>\n",
       "    </tr>\n",
       "  </thead>\n",
       "  <tbody>\n",
       "    <tr>\n",
       "      <th>1</th>\n",
       "      <td>The Spoilers</td>\n",
       "      <td>1914</td>\n",
       "      <td>NaN</td>\n",
       "      <td>$1,000,000</td>\n",
       "    </tr>\n",
       "    <tr>\n",
       "      <th>2</th>\n",
       "      <td>Dough and Dynamite</td>\n",
       "      <td>1914</td>\n",
       "      <td>NaN</td>\n",
       "      <td>$130,000</td>\n",
       "    </tr>\n",
       "    <tr>\n",
       "      <th>3</th>\n",
       "      <td>The Virginian</td>\n",
       "      <td>1914</td>\n",
       "      <td>NaN</td>\n",
       "      <td>$111,518</td>\n",
       "    </tr>\n",
       "    <tr>\n",
       "      <th>4</th>\n",
       "      <td>Rose of the Rancho</td>\n",
       "      <td>1914</td>\n",
       "      <td>NaN</td>\n",
       "      <td>$87,028</td>\n",
       "    </tr>\n",
       "    <tr>\n",
       "      <th>5</th>\n",
       "      <td>The Man from Home</td>\n",
       "      <td>1914</td>\n",
       "      <td>NaN</td>\n",
       "      <td>$62,091</td>\n",
       "    </tr>\n",
       "    <tr>\n",
       "      <th>...</th>\n",
       "      <td>...</td>\n",
       "      <td>...</td>\n",
       "      <td>...</td>\n",
       "      <td>...</td>\n",
       "    </tr>\n",
       "    <tr>\n",
       "      <th>1024</th>\n",
       "      <td>My People, My Homeland</td>\n",
       "      <td>2020</td>\n",
       "      <td>NaN</td>\n",
       "      <td>$433,241,288</td>\n",
       "    </tr>\n",
       "    <tr>\n",
       "      <th>1029</th>\n",
       "      <td>Jiang Ziya</td>\n",
       "      <td>2020</td>\n",
       "      <td>NaN</td>\n",
       "      <td>$243,883,429</td>\n",
       "    </tr>\n",
       "    <tr>\n",
       "      <th>1030</th>\n",
       "      <td>A Little Red Flower</td>\n",
       "      <td>2020</td>\n",
       "      <td>NaN</td>\n",
       "      <td>$238,600,000</td>\n",
       "    </tr>\n",
       "    <tr>\n",
       "      <th>1050</th>\n",
       "      <td>The Battle at Lake Changjin II</td>\n",
       "      <td>2022</td>\n",
       "      <td>NaN</td>\n",
       "      <td>$626,571,697</td>\n",
       "    </tr>\n",
       "    <tr>\n",
       "      <th>1060</th>\n",
       "      <td>The Wandering Earth 2</td>\n",
       "      <td>2023</td>\n",
       "      <td>NaN</td>\n",
       "      <td>$615,023,132</td>\n",
       "    </tr>\n",
       "  </tbody>\n",
       "</table>\n",
       "<p>138 rows × 4 columns</p>\n",
       "</div>"
      ],
      "text/plain": [
       "                               title  year budget_raw box_office_raw\n",
       "1                       The Spoilers  1914        NaN     $1,000,000\n",
       "2                 Dough and Dynamite  1914        NaN       $130,000\n",
       "3                      The Virginian  1914        NaN       $111,518\n",
       "4                 Rose of the Rancho  1914        NaN        $87,028\n",
       "5                  The Man from Home  1914        NaN        $62,091\n",
       "...                              ...   ...        ...            ...\n",
       "1024          My People, My Homeland  2020        NaN   $433,241,288\n",
       "1029                      Jiang Ziya  2020        NaN   $243,883,429\n",
       "1030             A Little Red Flower  2020        NaN   $238,600,000\n",
       "1050  The Battle at Lake Changjin II  2022        NaN   $626,571,697\n",
       "1060           The Wandering Earth 2  2023        NaN   $615,023,132\n",
       "\n",
       "[138 rows x 4 columns]"
      ]
     },
     "metadata": {},
     "output_type": "display_data"
    }
   ],
   "source": [
    "missing_budget_rows = df[df[\"budget_raw\"].isna()]\n",
    "print(\"Rows with missing budget_raw:\")\n",
    "display(missing_budget_rows[[\"title\", \"year\", \"budget_raw\", \"box_office_raw\"]])"
   ]
  },
  {
   "cell_type": "markdown",
   "id": "4d37e8f4",
   "metadata": {},
   "source": [
    "# similarly here we are looking for data that is not parsed into a number"
   ]
  },
  {
   "cell_type": "code",
   "execution_count": null,
   "id": "f4d6ed51",
   "metadata": {},
   "outputs": [
    {
     "name": "stdout",
     "output_type": "stream",
     "text": [
      "Rows with unparsable budgets:\n"
     ]
    },
    {
     "data": {
      "text/html": [
       "<div>\n",
       "<style scoped>\n",
       "    .dataframe tbody tr th:only-of-type {\n",
       "        vertical-align: middle;\n",
       "    }\n",
       "\n",
       "    .dataframe tbody tr th {\n",
       "        vertical-align: top;\n",
       "    }\n",
       "\n",
       "    .dataframe thead th {\n",
       "        text-align: right;\n",
       "    }\n",
       "</style>\n",
       "<table border=\"1\" class=\"dataframe\">\n",
       "  <thead>\n",
       "    <tr style=\"text-align: right;\">\n",
       "      <th></th>\n",
       "      <th>title</th>\n",
       "      <th>year</th>\n",
       "      <th>budget_raw</th>\n",
       "      <th>box_office_raw</th>\n",
       "    </tr>\n",
       "  </thead>\n",
       "  <tbody>\n",
       "    <tr>\n",
       "      <th>12</th>\n",
       "      <td>Temptation</td>\n",
       "      <td>1915</td>\n",
       "      <td>$ 22,472.25</td>\n",
       "      <td>$102,437</td>\n",
       "    </tr>\n",
       "    <tr>\n",
       "      <th>16</th>\n",
       "      <td>Chimmie Fadden</td>\n",
       "      <td>1915</td>\n",
       "      <td>$ 10,504.39</td>\n",
       "      <td>$78,944</td>\n",
       "    </tr>\n",
       "    <tr>\n",
       "      <th>26</th>\n",
       "      <td>The Little American</td>\n",
       "      <td>1917</td>\n",
       "      <td>$ 166,949.16</td>\n",
       "      <td>$446,236</td>\n",
       "    </tr>\n",
       "    <tr>\n",
       "      <th>35</th>\n",
       "      <td>Male and Female</td>\n",
       "      <td>1919</td>\n",
       "      <td>$ 168,619.28</td>\n",
       "      <td>$1,256,267</td>\n",
       "    </tr>\n",
       "    <tr>\n",
       "      <th>39</th>\n",
       "      <td>Don't Change Your Husband</td>\n",
       "      <td>1919</td>\n",
       "      <td>$ 73,922.14</td>\n",
       "      <td>$292,394</td>\n",
       "    </tr>\n",
       "    <tr>\n",
       "      <th>40</th>\n",
       "      <td>For Better, for Worse</td>\n",
       "      <td>1919</td>\n",
       "      <td>$ 1,260.93</td>\n",
       "      <td>$256,072</td>\n",
       "    </tr>\n",
       "    <tr>\n",
       "      <th>59</th>\n",
       "      <td>Saturday Night</td>\n",
       "      <td>1922</td>\n",
       "      <td>$ 224,635</td>\n",
       "      <td>$753,807</td>\n",
       "    </tr>\n",
       "    <tr>\n",
       "      <th>77</th>\n",
       "      <td>Feet of Clay</td>\n",
       "      <td>1924</td>\n",
       "      <td>$ 513,636.27</td>\n",
       "      <td>$904,383</td>\n",
       "    </tr>\n",
       "    <tr>\n",
       "      <th>312</th>\n",
       "      <td>The Red Shoes</td>\n",
       "      <td>1948</td>\n",
       "      <td>&gt; £ 505,600</td>\n",
       "      <td>$5,000,000</td>\n",
       "    </tr>\n",
       "    <tr>\n",
       "      <th>465</th>\n",
       "      <td>Tom Jones</td>\n",
       "      <td>1963</td>\n",
       "      <td>£467,000    or £480,000</td>\n",
       "      <td>$17,070,000</td>\n",
       "    </tr>\n",
       "    <tr>\n",
       "      <th>481</th>\n",
       "      <td>A Hard Day's Night</td>\n",
       "      <td>1964</td>\n",
       "      <td>£189,000</td>\n",
       "      <td>$5,800,000</td>\n",
       "    </tr>\n",
       "    <tr>\n",
       "      <th>693</th>\n",
       "      <td>Crocodile Dundee</td>\n",
       "      <td>1986</td>\n",
       "      <td>A$ 8.8 million</td>\n",
       "      <td>$174,803,506</td>\n",
       "    </tr>\n",
       "    <tr>\n",
       "      <th>766</th>\n",
       "      <td>The Firm</td>\n",
       "      <td>1993</td>\n",
       "      <td>$ 42 million</td>\n",
       "      <td>$270,248,367</td>\n",
       "    </tr>\n",
       "    <tr>\n",
       "      <th>779</th>\n",
       "      <td>Four Weddings and a Funeral</td>\n",
       "      <td>1994</td>\n",
       "      <td>£3 million</td>\n",
       "      <td>$245,700,832</td>\n",
       "    </tr>\n",
       "    <tr>\n",
       "      <th>998</th>\n",
       "      <td>Wolf Warrior 2</td>\n",
       "      <td>2017</td>\n",
       "      <td>CN¥200 million</td>\n",
       "      <td>$870,325,439</td>\n",
       "    </tr>\n",
       "    <tr>\n",
       "      <th>1034</th>\n",
       "      <td>Hi, Mom</td>\n",
       "      <td>2021</td>\n",
       "      <td>RMB 380 million</td>\n",
       "      <td>$841,674,419</td>\n",
       "    </tr>\n",
       "    <tr>\n",
       "      <th>1058</th>\n",
       "      <td>Full River Red</td>\n",
       "      <td>2023</td>\n",
       "      <td>CN¥ 500 million</td>\n",
       "      <td>$670,491,959</td>\n",
       "    </tr>\n",
       "  </tbody>\n",
       "</table>\n",
       "</div>"
      ],
      "text/plain": [
       "                            title  year               budget_raw  \\\n",
       "12                     Temptation  1915              $ 22,472.25   \n",
       "16                 Chimmie Fadden  1915              $ 10,504.39   \n",
       "26            The Little American  1917             $ 166,949.16   \n",
       "35                Male and Female  1919             $ 168,619.28   \n",
       "39      Don't Change Your Husband  1919              $ 73,922.14   \n",
       "40          For Better, for Worse  1919               $ 1,260.93   \n",
       "59                 Saturday Night  1922                $ 224,635   \n",
       "77                   Feet of Clay  1924             $ 513,636.27   \n",
       "312                 The Red Shoes  1948              > £ 505,600   \n",
       "465                     Tom Jones  1963  £467,000    or £480,000   \n",
       "481            A Hard Day's Night  1964                 £189,000   \n",
       "693              Crocodile Dundee  1986           A$ 8.8 million   \n",
       "766                      The Firm  1993             $ 42 million   \n",
       "779   Four Weddings and a Funeral  1994               £3 million   \n",
       "998                Wolf Warrior 2  2017           CN¥200 million   \n",
       "1034                      Hi, Mom  2021          RMB 380 million   \n",
       "1058               Full River Red  2023          CN¥ 500 million   \n",
       "\n",
       "     box_office_raw  \n",
       "12         $102,437  \n",
       "16          $78,944  \n",
       "26         $446,236  \n",
       "35       $1,256,267  \n",
       "39         $292,394  \n",
       "40         $256,072  \n",
       "59         $753,807  \n",
       "77         $904,383  \n",
       "312      $5,000,000  \n",
       "465     $17,070,000  \n",
       "481      $5,800,000  \n",
       "693    $174,803,506  \n",
       "766    $270,248,367  \n",
       "779    $245,700,832  \n",
       "998    $870,325,439  \n",
       "1034   $841,674,419  \n",
       "1058   $670,491,959  "
      ]
     },
     "metadata": {},
     "output_type": "display_data"
    }
   ],
   "source": [
    "unparsable_budget = df[(df[\"budget_raw\"].notna()) & (df[\"budget_millionUSD\"].isna())]\n",
    "print(\"Rows with unparsable budgets:\")\n",
    "display(unparsable_budget[[\"title\", \"year\", \"budget_raw\", \"box_office_raw\"]])"
   ]
  },
  {
   "cell_type": "markdown",
   "id": "9e74bfda",
   "metadata": {},
   "source": [
    "# Here is get to know that there are also some rows where budget is mentioned in some different currencies apart from dollar and previously we only handles dollar case that's why these rows are not parsable \n",
    "# I can convert these budgets also but since majority of our data is in dollars so i will drop these rows from the data\n",
    "# I could have also taken the mean or meadian as budget but the data is highly skewed toward large budgets so it is better to drop them "
   ]
  },
  {
   "cell_type": "code",
   "execution_count": 82,
   "id": "dfbf2a56",
   "metadata": {},
   "outputs": [],
   "source": [
    "df_model = df.dropna(subset=[\"budget_millionUSD\"]).copy()"
   ]
  },
  {
   "cell_type": "markdown",
   "id": "4d75cd38",
   "metadata": {},
   "source": [
    "# now we have 917 rows left in data"
   ]
  },
  {
   "cell_type": "code",
   "execution_count": 83,
   "id": "1f95a163",
   "metadata": {},
   "outputs": [
    {
     "data": {
      "text/plain": [
       "(917, 9)"
      ]
     },
     "execution_count": 83,
     "metadata": {},
     "output_type": "execute_result"
    }
   ],
   "source": [
    "df_model.shape"
   ]
  },
  {
   "cell_type": "code",
   "execution_count": 84,
   "id": "0f1755a3",
   "metadata": {},
   "outputs": [
    {
     "name": "stdout",
     "output_type": "stream",
     "text": [
      "Missing values per column:\n",
      "title                      0\n",
      "year                       0\n",
      "budget_raw                 0\n",
      "box_office_raw             0\n",
      "release_date             917\n",
      "section                    0\n",
      "image                      2\n",
      "budget_millionUSD          0\n",
      "box_office_millionUSD      0\n",
      "dtype: int64\n"
     ]
    }
   ],
   "source": [
    "print(\"Missing values per column:\")\n",
    "print(df_model.isna().sum())"
   ]
  },
  {
   "cell_type": "code",
   "execution_count": 85,
   "id": "b688eeab",
   "metadata": {},
   "outputs": [
    {
     "data": {
      "text/html": [
       "<div>\n",
       "<style scoped>\n",
       "    .dataframe tbody tr th:only-of-type {\n",
       "        vertical-align: middle;\n",
       "    }\n",
       "\n",
       "    .dataframe tbody tr th {\n",
       "        vertical-align: top;\n",
       "    }\n",
       "\n",
       "    .dataframe thead th {\n",
       "        text-align: right;\n",
       "    }\n",
       "</style>\n",
       "<table border=\"1\" class=\"dataframe\">\n",
       "  <thead>\n",
       "    <tr style=\"text-align: right;\">\n",
       "      <th></th>\n",
       "      <th>budget_millionUSD</th>\n",
       "      <th>box_office_millionUSD</th>\n",
       "    </tr>\n",
       "  </thead>\n",
       "  <tbody>\n",
       "    <tr>\n",
       "      <th>count</th>\n",
       "      <td>917.000000</td>\n",
       "      <td>917.000000</td>\n",
       "    </tr>\n",
       "    <tr>\n",
       "      <th>mean</th>\n",
       "      <td>2572.220158</td>\n",
       "      <td>267.210086</td>\n",
       "    </tr>\n",
       "    <tr>\n",
       "      <th>std</th>\n",
       "      <td>39900.338907</td>\n",
       "      <td>394.108248</td>\n",
       "    </tr>\n",
       "    <tr>\n",
       "      <th>min</th>\n",
       "      <td>0.005700</td>\n",
       "      <td>0.068526</td>\n",
       "    </tr>\n",
       "    <tr>\n",
       "      <th>25%</th>\n",
       "      <td>2.000000</td>\n",
       "      <td>4.633486</td>\n",
       "    </tr>\n",
       "    <tr>\n",
       "      <th>50%</th>\n",
       "      <td>9.000000</td>\n",
       "      <td>50.000000</td>\n",
       "    </tr>\n",
       "    <tr>\n",
       "      <th>75%</th>\n",
       "      <td>80.000000</td>\n",
       "      <td>432.243292</td>\n",
       "    </tr>\n",
       "    <tr>\n",
       "      <th>max</th>\n",
       "      <td>849127.875000</td>\n",
       "      <td>2799.439100</td>\n",
       "    </tr>\n",
       "  </tbody>\n",
       "</table>\n",
       "</div>"
      ],
      "text/plain": [
       "       budget_millionUSD  box_office_millionUSD\n",
       "count         917.000000             917.000000\n",
       "mean         2572.220158             267.210086\n",
       "std         39900.338907             394.108248\n",
       "min             0.005700               0.068526\n",
       "25%             2.000000               4.633486\n",
       "50%             9.000000              50.000000\n",
       "75%            80.000000             432.243292\n",
       "max        849127.875000            2799.439100"
      ]
     },
     "execution_count": 85,
     "metadata": {},
     "output_type": "execute_result"
    }
   ],
   "source": [
    "df_model[[\"budget_millionUSD\", \"box_office_millionUSD\"]].describe()\n"
   ]
  },
  {
   "cell_type": "markdown",
   "id": "60517a55",
   "metadata": {},
   "source": [
    "# above we can see that the maximum value is very large it may be a parsing error so to remove this outlier i restrict the budget of the movies to be less than equal to 500"
   ]
  },
  {
   "cell_type": "code",
   "execution_count": 86,
   "id": "44e0b34a",
   "metadata": {},
   "outputs": [],
   "source": [
    "df_model = df_model[df_model[\"budget_millionUSD\"] <= 500]\n"
   ]
  },
  {
   "cell_type": "code",
   "execution_count": 87,
   "id": "ea3baf97",
   "metadata": {},
   "outputs": [
    {
     "data": {
      "text/html": [
       "<div>\n",
       "<style scoped>\n",
       "    .dataframe tbody tr th:only-of-type {\n",
       "        vertical-align: middle;\n",
       "    }\n",
       "\n",
       "    .dataframe tbody tr th {\n",
       "        vertical-align: top;\n",
       "    }\n",
       "\n",
       "    .dataframe thead th {\n",
       "        text-align: right;\n",
       "    }\n",
       "</style>\n",
       "<table border=\"1\" class=\"dataframe\">\n",
       "  <thead>\n",
       "    <tr style=\"text-align: right;\">\n",
       "      <th></th>\n",
       "      <th>budget_millionUSD</th>\n",
       "      <th>box_office_millionUSD</th>\n",
       "    </tr>\n",
       "  </thead>\n",
       "  <tbody>\n",
       "    <tr>\n",
       "      <th>count</th>\n",
       "      <td>913.000000</td>\n",
       "      <td>913.000000</td>\n",
       "    </tr>\n",
       "    <tr>\n",
       "      <th>mean</th>\n",
       "      <td>49.941413</td>\n",
       "      <td>268.357449</td>\n",
       "    </tr>\n",
       "    <tr>\n",
       "      <th>std</th>\n",
       "      <td>75.554697</td>\n",
       "      <td>394.588890</td>\n",
       "    </tr>\n",
       "    <tr>\n",
       "      <th>min</th>\n",
       "      <td>0.005700</td>\n",
       "      <td>0.068526</td>\n",
       "    </tr>\n",
       "    <tr>\n",
       "      <th>25%</th>\n",
       "      <td>2.000000</td>\n",
       "      <td>4.700000</td>\n",
       "    </tr>\n",
       "    <tr>\n",
       "      <th>50%</th>\n",
       "      <td>8.750000</td>\n",
       "      <td>50.427646</td>\n",
       "    </tr>\n",
       "    <tr>\n",
       "      <th>75%</th>\n",
       "      <td>80.000000</td>\n",
       "      <td>433.371112</td>\n",
       "    </tr>\n",
       "    <tr>\n",
       "      <th>max</th>\n",
       "      <td>490.000000</td>\n",
       "      <td>2799.439100</td>\n",
       "    </tr>\n",
       "  </tbody>\n",
       "</table>\n",
       "</div>"
      ],
      "text/plain": [
       "       budget_millionUSD  box_office_millionUSD\n",
       "count         913.000000             913.000000\n",
       "mean           49.941413             268.357449\n",
       "std            75.554697             394.588890\n",
       "min             0.005700               0.068526\n",
       "25%             2.000000               4.700000\n",
       "50%             8.750000              50.427646\n",
       "75%            80.000000             433.371112\n",
       "max           490.000000            2799.439100"
      ]
     },
     "execution_count": 87,
     "metadata": {},
     "output_type": "execute_result"
    }
   ],
   "source": [
    "df_model[[\"budget_millionUSD\", \"box_office_millionUSD\"]].describe()"
   ]
  },
  {
   "cell_type": "markdown",
   "id": "29f3a92b",
   "metadata": {},
   "source": [
    "# so we have 913 rows left now"
   ]
  },
  {
   "cell_type": "code",
   "execution_count": 88,
   "id": "ce66ea23",
   "metadata": {},
   "outputs": [
    {
     "data": {
      "text/plain": [
       "(913, 9)"
      ]
     },
     "execution_count": 88,
     "metadata": {},
     "output_type": "execute_result"
    }
   ],
   "source": [
    "df_model.shape"
   ]
  },
  {
   "cell_type": "markdown",
   "id": "a3f58fc5",
   "metadata": {},
   "source": [
    "# here iam plotting various plots of movie Budgets and movie box office and we can see that the data is highly skewed so before training our ML model on this data we can log of the values to make them in similar ranges so that our regression model can predict much better \n",
    "# we are not using standard scalling because we are not using distance based models"
   ]
  },
  {
   "cell_type": "code",
   "execution_count": 70,
   "id": "91339d46",
   "metadata": {},
   "outputs": [
    {
     "data": {
      "image/png": "[encoded data removed]",
      "text/plain": [
       "<Figure size 640x480 with 1 Axes>"
      ]
     },
     "metadata": {},
     "output_type": "display_data"
    }
   ],
   "source": [
    "plt.hist(df_model[\"budget_millionUSD\"], bins=50)\n",
    "plt.xlabel(\"Budget (Million USD)\")\n",
    "plt.ylabel(\"Count\")\n",
    "plt.title(\"Distribution of Movie Budgets\")\n",
    "plt.show()"
   ]
  },
  {
   "cell_type": "code",
   "execution_count": 71,
   "id": "3211c9de",
   "metadata": {},
   "outputs": [
    {
     "data": {
      "image/png": "[encoded data removed]",
      "text/plain": [
       "<Figure size 640x480 with 1 Axes>"
      ]
     },
     "metadata": {},
     "output_type": "display_data"
    }
   ],
   "source": [
    "plt.hist(df_model[\"box_office_millionUSD\"], bins=50)\n",
    "plt.xlabel(\"Box Office (Million USD)\")\n",
    "plt.ylabel(\"Count\")\n",
    "plt.title(\"Distribution of Movie Box Office Revenues\")\n",
    "plt.show()"
   ]
  },
  {
   "cell_type": "code",
   "execution_count": 72,
   "id": "8cb2d682",
   "metadata": {},
   "outputs": [
    {
     "data": {
      "image/png": "[encoded data removed]",
      "text/plain": [
       "<Figure size 640x480 with 1 Axes>"
      ]
     },
     "metadata": {},
     "output_type": "display_data"
    }
   ],
   "source": [
    "plt.scatter(df_model[\"budget_millionUSD\"], df_model[\"box_office_millionUSD\"], alpha=0.5)\n",
    "plt.xlabel(\"Budget (Million USD)\")\n",
    "plt.ylabel(\"Box Office (Million USD)\")\n",
    "plt.title(\"Budget vs Box Office\")\n",
    "plt.show()"
   ]
  },
  {
   "cell_type": "code",
   "execution_count": 73,
   "id": "be6e5ce2",
   "metadata": {},
   "outputs": [
    {
     "data": {
      "image/png": "[encoded data removed]",
      "text/plain": [
       "<Figure size 640x480 with 1 Axes>"
      ]
     },
     "metadata": {},
     "output_type": "display_data"
    }
   ],
   "source": [
    "df_model[\"decade\"] = (df_model[\"year\"] // 10) * 10\n",
    "df_model.groupby(\"decade\")[[\"budget_millionUSD\", \"box_office_millionUSD\"]].median().plot(kind=\"bar\")\n",
    "plt.ylabel(\"Median (Million USD)\")\n",
    "plt.title(\"Median Budget & Box Office by Decade\")\n",
    "plt.show()"
   ]
  },
  {
   "cell_type": "markdown",
   "id": "b26138af",
   "metadata": {},
   "source": [
    "# Here i am doing title cleaning and Log transform for later regression "
   ]
  },
  {
   "cell_type": "code",
   "execution_count": null,
   "id": "c490f3e6",
   "metadata": {},
   "outputs": [],
   "source": [
    "df_model[\"title_clean\"] = df_model[\"title\"].str.replace(r\"\\[.*?\\]\", \"\", regex=True).str.strip()\n",
    "\n",
    "df_model[\"log_budget\"] = np.log1p(df_model[\"budget_millionUSD\"])\n",
    "df_model[\"log_box_office\"] = np.log1p(df_model[\"box_office_millionUSD\"])"
   ]
  },
  {
   "cell_type": "markdown",
   "id": "859293a3",
   "metadata": {},
   "source": [
    "Box plot also demonstrates that our data is highly skewed and there are more big budget outliers"
   ]
  },
  {
   "cell_type": "code",
   "execution_count": 90,
   "id": "17a59f35",
   "metadata": {},
   "outputs": [
    {
     "data": {
      "image/png": "[encoded data removed]",
      "text/plain": [
       "<Figure size 1000x500 with 1 Axes>"
      ]
     },
     "metadata": {},
     "output_type": "display_data"
    }
   ],
   "source": [
    "plt.figure(figsize=(10,5))\n",
    "sns.boxplot(x=df_model[\"budget_millionUSD\"])\n",
    "plt.title(\"Box Plot of Movie Budgets\")\n",
    "plt.xlabel(\"Budget (Million USD)\")\n",
    "plt.show()"
   ]
  },
  {
   "cell_type": "code",
   "execution_count": 98,
   "id": "c1ab37d2",
   "metadata": {},
   "outputs": [],
   "source": [
    "# df_model = df_model.drop(columns=[\"release_date\"])\n",
    "df_model = df_model.drop(columns=[\"section\"])\n"
   ]
  },
  {
   "cell_type": "markdown",
   "id": "90cb891f",
   "metadata": {},
   "source": [
    "# Here we are plotting correlation matrix of numeric coloumns"
   ]
  },
  {
   "cell_type": "code",
   "execution_count": null,
   "id": "ba5bb0fb",
   "metadata": {},
   "outputs": [
    {
     "data": {
      "image/png": "[encoded data removed]",
      "text/plain": [
       "<Figure size 600x400 with 2 Axes>"
      ]
     },
     "metadata": {},
     "output_type": "display_data"
    }
   ],
   "source": [
    "corr = df_model.corr(numeric_only=True)\n",
    "\n",
    "plt.figure(figsize=(6,4))\n",
    "sns.heatmap(corr, annot=True, fmt=\".2f\", cmap=\"coolwarm\", cbar=True)\n",
    "plt.title(\"Correlation Matrix (All Numeric Columns)\")\n",
    "plt.show()\n"
   ]
  },
  {
   "cell_type": "code",
   "execution_count": 99,
   "id": "35a07818",
   "metadata": {},
   "outputs": [
    {
     "data": {
      "text/html": [
       "<div>\n",
       "<style scoped>\n",
       "    .dataframe tbody tr th:only-of-type {\n",
       "        vertical-align: middle;\n",
       "    }\n",
       "\n",
       "    .dataframe tbody tr th {\n",
       "        vertical-align: top;\n",
       "    }\n",
       "\n",
       "    .dataframe thead th {\n",
       "        text-align: right;\n",
       "    }\n",
       "</style>\n",
       "<table border=\"1\" class=\"dataframe\">\n",
       "  <thead>\n",
       "    <tr style=\"text-align: right;\">\n",
       "      <th></th>\n",
       "      <th>title</th>\n",
       "      <th>year</th>\n",
       "      <th>budget_raw</th>\n",
       "      <th>box_office_raw</th>\n",
       "      <th>image</th>\n",
       "      <th>budget_millionUSD</th>\n",
       "      <th>box_office_millionUSD</th>\n",
       "      <th>title_clean</th>\n",
       "      <th>log_budget</th>\n",
       "      <th>log_box_office</th>\n",
       "    </tr>\n",
       "  </thead>\n",
       "  <tbody>\n",
       "    <tr>\n",
       "      <th>0</th>\n",
       "      <td>Traffic in Souls</td>\n",
       "      <td>1913</td>\n",
       "      <td>$5,700</td>\n",
       "      <td>$981,000</td>\n",
       "      <td>images\\1913_Traffic_in_Souls.jpg</td>\n",
       "      <td>0.005700</td>\n",
       "      <td>0.981000</td>\n",
       "      <td>Traffic in Souls</td>\n",
       "      <td>0.005684</td>\n",
       "      <td>0.683602</td>\n",
       "    </tr>\n",
       "    <tr>\n",
       "      <th>9</th>\n",
       "      <td>The Birth of a Nation</td>\n",
       "      <td>1915</td>\n",
       "      <td>$100,000+</td>\n",
       "      <td>$10,000,000</td>\n",
       "      <td>images\\1915_The_Birth_of_a_Nation.jpg</td>\n",
       "      <td>0.100000</td>\n",
       "      <td>10.000000</td>\n",
       "      <td>The Birth of a Nation</td>\n",
       "      <td>0.095310</td>\n",
       "      <td>2.397895</td>\n",
       "    </tr>\n",
       "    <tr>\n",
       "      <th>10</th>\n",
       "      <td>Carmen</td>\n",
       "      <td>1915</td>\n",
       "      <td>$23,429</td>\n",
       "      <td>$147,600</td>\n",
       "      <td>images\\1915_Carmen.jpg</td>\n",
       "      <td>0.023429</td>\n",
       "      <td>0.147600</td>\n",
       "      <td>Carmen</td>\n",
       "      <td>0.023159</td>\n",
       "      <td>0.137673</td>\n",
       "    </tr>\n",
       "    <tr>\n",
       "      <th>11</th>\n",
       "      <td>The Cheat</td>\n",
       "      <td>1915</td>\n",
       "      <td>$17,311</td>\n",
       "      <td>$137,364</td>\n",
       "      <td>images\\1915_The_Cheat.jpg</td>\n",
       "      <td>0.017311</td>\n",
       "      <td>0.137364</td>\n",
       "      <td>The Cheat</td>\n",
       "      <td>0.017163</td>\n",
       "      <td>0.128713</td>\n",
       "    </tr>\n",
       "    <tr>\n",
       "      <th>15</th>\n",
       "      <td>The Golden Chance</td>\n",
       "      <td>1915</td>\n",
       "      <td>$18,711</td>\n",
       "      <td>$83,504</td>\n",
       "      <td>images\\1915_The_Golden_Chance.jpg</td>\n",
       "      <td>0.018711</td>\n",
       "      <td>0.083504</td>\n",
       "      <td>The Golden Chance</td>\n",
       "      <td>0.018538</td>\n",
       "      <td>0.080200</td>\n",
       "    </tr>\n",
       "  </tbody>\n",
       "</table>\n",
       "</div>"
      ],
      "text/plain": [
       "                    title  year budget_raw box_office_raw  \\\n",
       "0        Traffic in Souls  1913     $5,700       $981,000   \n",
       "9   The Birth of a Nation  1915  $100,000+    $10,000,000   \n",
       "10                 Carmen  1915    $23,429       $147,600   \n",
       "11              The Cheat  1915    $17,311       $137,364   \n",
       "15      The Golden Chance  1915    $18,711        $83,504   \n",
       "\n",
       "                                    image  budget_millionUSD  \\\n",
       "0        images\\1913_Traffic_in_Souls.jpg           0.005700   \n",
       "9   images\\1915_The_Birth_of_a_Nation.jpg           0.100000   \n",
       "10                 images\\1915_Carmen.jpg           0.023429   \n",
       "11              images\\1915_The_Cheat.jpg           0.017311   \n",
       "15      images\\1915_The_Golden_Chance.jpg           0.018711   \n",
       "\n",
       "    box_office_millionUSD            title_clean  log_budget  log_box_office  \n",
       "0                0.981000       Traffic in Souls    0.005684        0.683602  \n",
       "9               10.000000  The Birth of a Nation    0.095310        2.397895  \n",
       "10               0.147600                 Carmen    0.023159        0.137673  \n",
       "11               0.137364              The Cheat    0.017163        0.128713  \n",
       "15               0.083504      The Golden Chance    0.018538        0.080200  "
      ]
     },
     "execution_count": 99,
     "metadata": {},
     "output_type": "execute_result"
    }
   ],
   "source": [
    "df_model.head()"
   ]
  },
  {
   "cell_type": "markdown",
   "id": "78201bce",
   "metadata": {},
   "source": [
    "# Saving the cleaned dataset for modelling"
   ]
  },
  {
   "cell_type": "code",
   "execution_count": null,
   "id": "26177428",
   "metadata": {},
   "outputs": [],
   "source": [
    "df_model.to_csv(\"clean_movies_dataset.csv\", index=False)"
   ]
  }
 ],
 "metadata": {
  "kernelspec": {
   "display_name": "Python 3",
   "language": "python",
   "name": "python3"
  },
  "language_info": {
   "codemirror_mode": {
    "name": "ipython",
    "version": 3
   },
   "file_extension": ".py",
   "mimetype": "text/x-python",
   "name": "python",
   "nbconvert_exporter": "python",
   "pygments_lexer": "ipython3",
   "version": "3.13.0"
  }
 },
 "nbformat": 4,
 "nbformat_minor": 5
}
